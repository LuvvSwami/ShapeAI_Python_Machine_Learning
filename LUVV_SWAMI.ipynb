{
  "nbformat": 4,
  "nbformat_minor": 0,
  "metadata": {
    "colab": {
      "provenance": [],
      "collapsed_sections": []
    },
    "kernelspec": {
      "name": "python3",
      "display_name": "Python 3"
    },
    "language_info": {
      "name": "python"
    }
  },
  "cells": [
    {
      "cell_type": "code",
      "execution_count": null,
      "metadata": {
        "id": "kWcIgH7XySfJ"
      },
      "outputs": [],
      "source": [
        "import numpy as nm\n",
        "import pandas as pa\n",
        "import sklearn\n",
        "from sklearn.datasets import load_boston\n",
        "info = load_boston()"
      ]
    },
    {
      "cell_type": "code",
      "source": [
        "info.keys()"
      ],
      "metadata": {
        "id": "-C61u9KizcWr"
      },
      "execution_count": null,
      "outputs": []
    },
    {
      "cell_type": "code",
      "source": [
        "print(info.data)"
      ],
      "metadata": {
        "id": "jVKWW-mtz1rv"
      },
      "execution_count": null,
      "outputs": []
    },
    {
      "cell_type": "code",
      "source": [
        "print(info.target)"
      ],
      "metadata": {
        "id": "UXJAMYL9z4WX"
      },
      "execution_count": null,
      "outputs": []
    },
    {
      "cell_type": "code",
      "source": [
        "print(info.feature_names)"
      ],
      "metadata": {
        "id": "CIN4SKFt0EdX"
      },
      "execution_count": null,
      "outputs": []
    },
    {
      "cell_type": "code",
      "source": [
        "print(info.DESCR)"
      ],
      "metadata": {
        "id": "YtF10yJ80Ejv"
      },
      "execution_count": null,
      "outputs": []
    },
    {
      "cell_type": "code",
      "source": [
        "print(info.filename)"
      ],
      "metadata": {
        "id": "bxGgZmC60EqO"
      },
      "execution_count": null,
      "outputs": []
    },
    {
      "cell_type": "code",
      "source": [
        "\n",
        "boston = pa.DataFrame(info.data, columns = info.feature_names)\n",
        "boston.head()"
      ],
      "metadata": {
        "id": "GzIO00qA0aDo"
      },
      "execution_count": null,
      "outputs": []
    },
    {
      "cell_type": "code",
      "source": [
        "boston['medv'] = info.target\n",
        "boston.head()\n"
      ],
      "metadata": {
        "id": "3Nro2r_21hmg"
      },
      "execution_count": null,
      "outputs": []
    },
    {
      "cell_type": "code",
      "source": [
        "boston.isnull().sum()"
      ],
      "metadata": {
        "id": "XFaS_w9p1fVX"
      },
      "execution_count": null,
      "outputs": []
    },
    {
      "cell_type": "code",
      "source": [
        "from sklearn.model_selection import train_test_split\n",
        "x = boston.drop('medv', axis=1)\n",
        "y = boston['medv']\n",
        "x_train, x_test, y_train, y_test = train_test_split(x, y, test_size=0.2, random_state=1)\n",
        "print(x_train.shape)\n",
        "print(x_test.shape) \n",
        "print(y_train.shape)\n",
        "print(y_test.shape)"
      ],
      "metadata": {
        "id": "RnFetHiP14Ol"
      },
      "execution_count": null,
      "outputs": []
    },
    {
      "cell_type": "code",
      "source": [
        "from sklearn.linear_model import LinearRegression \n",
        "from sklearn.metrics import mean_squared_error"
      ],
      "metadata": {
        "id": "Tl2odD8L3XqU"
      },
      "execution_count": 28,
      "outputs": []
    },
    {
      "cell_type": "code",
      "source": [
        "lin_model = LinearRegression()\n",
        "lin_model.fit(x_train, y_train)"
      ],
      "metadata": {
        "colab": {
          "base_uri": "https://localhost:8080/"
        },
        "id": "ybZaZG7X6LyU",
        "outputId": "97b9efba-535a-4988-bf97-0d7b210f1fae"
      },
      "execution_count": 23,
      "outputs": [
        {
          "output_type": "execute_result",
          "data": {
            "text/plain": [
              "LinearRegression()"
            ]
          },
          "metadata": {},
          "execution_count": 23
        }
      ]
    },
    {
      "cell_type": "code",
      "source": [
        "y_train_predict = lin_model.predict(x_train)\n",
        "rmse = (nm.sqrt(mean_squared_error(y_train, y_train_predict)))\n",
        "print(\"The model performance for training set\")\n",
        "print('RMSE is {}'.format(rmse))\n",
        "print(\"\\n\")\n",
        "y_test_predict = lin_model.predict(x_test)\n",
        "rmse = (nm.sqrt(mean_squared_error(y_test, y_test_predict)))\n",
        "print(\"The model performance for testing set\")\n",
        "print('RMSE is {}'.format(rmse))\n",
        "print(\"\\n\")"
      ],
      "metadata": {
        "colab": {
          "base_uri": "https://localhost:8080/"
        },
        "id": "UILYAR376o9b",
        "outputId": "2a46334a-3ff8-4425-e9ef-e67ac03399c5"
      },
      "execution_count": 27,
      "outputs": [
        {
          "output_type": "stream",
          "name": "stdout",
          "text": [
            "The model performance for training set\n",
            "RMSE is 4.675766751547773\n",
            "\n",
            "\n",
            "The model performance for testing set\n",
            "RMSE is 4.835373458200558\n",
            "\n",
            "\n"
          ]
        }
      ]
    }
  ]
}